{
  "nbformat": 4,
  "nbformat_minor": 0,
  "metadata": {
    "colab": {
      "provenance": []
    },
    "kernelspec": {
      "name": "python3",
      "display_name": "Python 3"
    },
    "language_info": {
      "name": "python"
    }
  },
  "cells": [
    {
      "cell_type": "code",
      "execution_count": 4,
      "metadata": {
        "id": "cs5xnF8A41bc"
      },
      "outputs": [],
      "source": [
        "import pandas as pd\n",
        "from sklearn.model_selection import train_test_split\n",
        "import tensorflow as tf\n",
        "from tensorflow import keras\n",
        "import PIL # used for viewing the images\n",
        "import cv2 # for analysing the images"
      ]
    },
    {
      "cell_type": "code",
      "source": [
        "import numpy as np"
      ],
      "metadata": {
        "id": "5URv1PuI5BUZ"
      },
      "execution_count": 5,
      "outputs": []
    },
    {
      "cell_type": "code",
      "source": [
        "data_path = '/content/drive/MyDrive/Classroom/Data/train'"
      ],
      "metadata": {
        "id": "GgMauOHp5pC3"
      },
      "execution_count": 6,
      "outputs": []
    },
    {
      "cell_type": "markdown",
      "source": [
        "**Importing the images and using the images to train the model.**"
      ],
      "metadata": {
        "id": "H3pOfYEzTiV7"
      }
    },
    {
      "cell_type": "code",
      "source": [
        "import pathlib #importing pathlib\n",
        "data_path = pathlib.Path(data_path)"
      ],
      "metadata": {
        "id": "WJr07-pP5v8e"
      },
      "execution_count": 7,
      "outputs": []
    },
    {
      "cell_type": "code",
      "source": [
        "train_data = {\n",
        "    'normal' : list(data_path.glob('normal/*')),\n",
        "    'carcinoma' : list(data_path.glob('carcinoma/*')),\n",
        "    'squamous': list(data_path.glob('squamous/*')),\n",
        "    'adenocarcinoma': list(data_path.glob('adenocarcinoma/*')),\n",
        "}"
      ],
      "metadata": {
        "id": "DE3sKbLR501f"
      },
      "execution_count": 8,
      "outputs": []
    },
    {
      "cell_type": "code",
      "source": [
        "train_data_label = {\n",
        "    'normal' : 1,\n",
        "    'squamous' :2,\n",
        "    'carcinoma' :3,\n",
        "    'adenocarcinoma' :4\n",
        "}"
      ],
      "metadata": {
        "id": "lJYQk22-6WJG"
      },
      "execution_count": 9,
      "outputs": []
    },
    {
      "cell_type": "code",
      "source": [
        "X,y = [],[] #for converting the images into vector format for training the model.\n",
        "for train,images in train_data.items():\n",
        "  for image in images:\n",
        "    img = cv2.imread(str(image))\n",
        "    resized = cv2.resize(img,(180,180))\n",
        "    X.append(resized)\n",
        "    y.append(train_data_label[train])"
      ],
      "metadata": {
        "id": "vBDtdy266jf9"
      },
      "execution_count": 10,
      "outputs": []
    },
    {
      "cell_type": "markdown",
      "source": [
        "Converting into a numpy array"
      ],
      "metadata": {
        "id": "OJBX2M9rT7fq"
      }
    },
    {
      "cell_type": "code",
      "source": [
        "X = np.array(X)\n",
        "y = np.array(y)"
      ],
      "metadata": {
        "id": "TAtCwo1p7L3_"
      },
      "execution_count": 11,
      "outputs": []
    },
    {
      "cell_type": "code",
      "source": [
        "X = X/255"
      ],
      "metadata": {
        "id": "vVSvLGAo775C"
      },
      "execution_count": 12,
      "outputs": []
    },
    {
      "cell_type": "code",
      "source": [
        "# Check if labels are in the expected range\n",
        "print(np.unique(y))\n",
        "num_classes = len(train_data_label)\n",
        "# If labels are not integers starting from 0, adjust them\n",
        "if np.min(y) != 0 or np.max(y) != num_classes - 1:\n",
        "    from sklearn.preprocessing import LabelEncoder\n",
        "    le = LabelEncoder()\n",
        "    y = le.fit_transform(y)\n",
        "    # print(\"Labels adjusted to:\", np.unique(y))"
      ],
      "metadata": {
        "colab": {
          "base_uri": "https://localhost:8080/"
        },
        "id": "QAzhvh1X-3N1",
        "outputId": "38192a5d-7522-4755-fe2d-2e97f19fb6f1"
      },
      "execution_count": 15,
      "outputs": [
        {
          "output_type": "stream",
          "name": "stdout",
          "text": [
            "[1 2 3 4]\n"
          ]
        }
      ]
    },
    {
      "cell_type": "markdown",
      "source": [
        "**Training the model**"
      ],
      "metadata": {
        "id": "GLjuTjRDUEi1"
      }
    },
    {
      "cell_type": "code",
      "source": [
        "model = keras.Sequential([\n",
        "    keras.layers.Conv2D(filters = 32,kernel_size = (3,3),activation = 'relu',input_shape = (180,180,3)), #setting the first cnn layer\n",
        "    keras.layers.MaxPooling2D((2,2)), # using of max pooling\n",
        "    keras.layers.Conv2D(filters = 18,kernel_size = (3,3),activation = 'relu'),\n",
        "    keras.layers.MaxPooling2D(),\n",
        "    keras.layers.Flatten(), # flattenning the output\n",
        "    keras.layers.Dense(num_classes,activation = 'sigmoid') # last layer for prediction\n",
        "])"
      ],
      "metadata": {
        "id": "j8V3ieeI8Ur8"
      },
      "execution_count": 16,
      "outputs": []
    },
    {
      "cell_type": "code",
      "source": [
        "model.compile(\n",
        "    optimizer = 'adam',\n",
        "    loss = 'sparse_categorical_crossentropy', #use different loss function but this has given a better output\n",
        "    metrics = ['accuracy']\n",
        ")\n",
        "model.fit(X,y, epochs = 5)"
      ],
      "metadata": {
        "colab": {
          "base_uri": "https://localhost:8080/"
        },
        "id": "a-ACQQct9GXW",
        "outputId": "20e722c2-de31-4c56-9879-9e7706439bec"
      },
      "execution_count": 17,
      "outputs": [
        {
          "output_type": "stream",
          "name": "stdout",
          "text": [
            "Epoch 1/5\n",
            "20/20 [==============================] - 22s 1s/step - loss: 1.2121 - accuracy: 0.4307\n",
            "Epoch 2/5\n",
            "20/20 [==============================] - 19s 937ms/step - loss: 0.7547 - accuracy: 0.7243\n",
            "Epoch 3/5\n",
            "20/20 [==============================] - 19s 966ms/step - loss: 0.4729 - accuracy: 0.8483\n",
            "Epoch 4/5\n",
            "20/20 [==============================] - 20s 1s/step - loss: 0.3200 - accuracy: 0.8809\n",
            "Epoch 5/5\n",
            "20/20 [==============================] - 21s 1s/step - loss: 0.1678 - accuracy: 0.9592\n"
          ]
        },
        {
          "output_type": "execute_result",
          "data": {
            "text/plain": [
              "<keras.src.callbacks.History at 0x780e54549600>"
            ]
          },
          "metadata": {},
          "execution_count": 17
        }
      ]
    },
    {
      "cell_type": "markdown",
      "source": [
        "As you can see the accuracy is about 95%. The check the prediction repeat the above steps with necessary changes for test data from the dataset or use train_test_split from the sklearn.model_selection to split this only and check the predictions."
      ],
      "metadata": {
        "id": "D5S85xEHUi61"
      }
    }
  ]
}